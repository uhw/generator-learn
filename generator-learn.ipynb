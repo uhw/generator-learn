{
 "cells": [
  {
   "cell_type": "code",
   "execution_count": 7,
   "metadata": {
    "collapsed": false
   },
   "outputs": [],
   "source": [
    "import os\n",
    "\n",
    "import matplotlib.pyplot as plt\n",
    "import numpy as np\n",
    "from keras.layers import BatchNormalization, Dropout\n",
    "from keras.layers import Conv2DTranspose, UpSampling2D\n",
    "from keras.layers import Dense, Activation, Reshape\n",
    "from keras.models import Sequential\n",
    "\n",
    "% matplotlib inline\n",
    "\n",
    "from tensorflow.examples.tutorials.mnist import input_data"
   ]
  },
  {
   "cell_type": "code",
   "execution_count": 8,
   "metadata": {
    "collapsed": true
   },
   "outputs": [],
   "source": [
    "def keras_generator():\n",
    "  # use tutorial from https://medium.com/towards-data-science/gan-by-example-using-keras-on-tensorflow-backend-1a6d515a60d0\n",
    "  g = Sequential()\n",
    "  dropout = 0.4\n",
    "  depth = 256\n",
    "  dim = 7\n",
    "  # In: 100\n",
    "  # Out: dim x dim x depth\n",
    "  g.add(Dense(dim * dim * depth, input_dim=100))\n",
    "  g.add(BatchNormalization(momentum=0.9))\n",
    "  g.add(Activation('relu'))\n",
    "  g.add(Reshape((dim, dim, depth)))\n",
    "  g.add(Dropout(dropout))\n",
    "  # In: dim x dim x depth\n",
    "  # Out: 2*dim x 2*dim x depth/2\n",
    "  g.add(UpSampling2D())\n",
    "  g.add(Conv2DTranspose(int(depth / 2), 5, padding='same'))\n",
    "  g.add(BatchNormalization(momentum=0.9))\n",
    "  g.add(Activation('relu'))\n",
    "  g.add(UpSampling2D())\n",
    "  g.add(Conv2DTranspose(int(depth / 4), 5, padding='same'))\n",
    "  g.add(BatchNormalization(momentum=0.9))\n",
    "  g.add(Activation('relu'))\n",
    "  # Out: 28 x 28 x 1 grayscale image [0.0,1.0] per pix\n",
    "  g.add(Conv2DTranspose(1, 5, padding='same'))\n",
    "  g.add(Activation('sigmoid'))\n",
    "  g.summary()\n",
    "  return g"
   ]
  },
  {
   "cell_type": "code",
   "execution_count": 9,
   "metadata": {
    "collapsed": false
   },
   "outputs": [
    {
     "name": "stdout",
     "output_type": "stream",
     "text": [
      "_________________________________________________________________\nLayer (type)                 Output Shape              Param #   \n=================================================================\ndense_3 (Dense)              (None, 12544)             1266944   \n_________________________________________________________________\nbatch_normalization_7 (Batch (None, 12544)             50176     \n_________________________________________________________________\nactivation_9 (Activation)    (None, 12544)             0         \n_________________________________________________________________\nreshape_3 (Reshape)          (None, 7, 7, 256)         0         \n_________________________________________________________________\ndropout_3 (Dropout)          (None, 7, 7, 256)         0         \n_________________________________________________________________\nup_sampling2d_5 (UpSampling2 (None, 14, 14, 256)       0         \n_________________________________________________________________\nconv2d_transpose_7 (Conv2DTr (None, 14, 14, 128)       819328    \n_________________________________________________________________\nbatch_normalization_8 (Batch (None, 14, 14, 128)       512       \n_________________________________________________________________\nactivation_10 (Activation)   (None, 14, 14, 128)       0         \n_________________________________________________________________\nup_sampling2d_6 (UpSampling2 (None, 28, 28, 128)       0         \n_________________________________________________________________\nconv2d_transpose_8 (Conv2DTr (None, 28, 28, 64)        204864    \n_________________________________________________________________\nbatch_normalization_9 (Batch (None, 28, 28, 64)        256       \n_________________________________________________________________\nactivation_11 (Activation)   (None, 28, 28, 64)        0         \n_________________________________________________________________\nconv2d_transpose_9 (Conv2DTr (None, 28, 28, 1)         1601      \n_________________________________________________________________\nactivation_12 (Activation)   (None, 28, 28, 1)         0         \n=================================================================\nTotal params: 2,343,681\nTrainable params: 2,318,209\nNon-trainable params: 25,472\n_________________________________________________________________\n"
     ]
    },
    {
     "name": "stdout",
     "output_type": "stream",
     "text": [
      "_________________________________________________________________\nLayer (type)                 Output Shape              Param #   \n=================================================================\ndense_4 (Dense)              (None, 12544)             1266944   \n_________________________________________________________________\nbatch_normalization_10 (Batc (None, 12544)             50176     \n_________________________________________________________________\nactivation_13 (Activation)   (None, 12544)             0         \n_________________________________________________________________\nreshape_4 (Reshape)          (None, 7, 7, 256)         0         \n_________________________________________________________________\ndropout_4 (Dropout)          (None, 7, 7, 256)         0         \n_________________________________________________________________\nup_sampling2d_7 (UpSampling2 (None, 14, 14, 256)       0         \n_________________________________________________________________\nconv2d_transpose_10 (Conv2DT (None, 14, 14, 128)       819328    \n_________________________________________________________________\nbatch_normalization_11 (Batc (None, 14, 14, 128)       512       \n_________________________________________________________________\nactivation_14 (Activation)   (None, 14, 14, 128)       0         \n_________________________________________________________________\nup_sampling2d_8 (UpSampling2 (None, 28, 28, 128)       0         \n_________________________________________________________________\nconv2d_transpose_11 (Conv2DT (None, 28, 28, 64)        204864    \n_________________________________________________________________\nbatch_normalization_12 (Batc (None, 28, 28, 64)        256       \n_________________________________________________________________\nactivation_15 (Activation)   (None, 28, 28, 64)        0         \n_________________________________________________________________\nconv2d_transpose_12 (Conv2DT (None, 28, 28, 1)         1601      \n_________________________________________________________________\nactivation_16 (Activation)   (None, 28, 28, 1)         0         \n=================================================================\nTotal params: 2,343,681\nTrainable params: 2,318,209\nNon-trainable params: 25,472\n_________________________________________________________________\n"
     ]
    }
   ],
   "source": [
    "noise = np.random.uniform(-1.0, 1.0, size=[256, 100])\n",
    "g = keras_generator()\n",
    "images = keras_generator().predict(noise)"
   ]
  },
  {
   "cell_type": "code",
   "execution_count": 10,
   "metadata": {},
   "outputs": [],
   "source": [
    "# Save the trained model to file\n",
    "DIRECTORY = \"./learned_model/\"\n",
    "MODEL_FILE = \"generator.h5\"\n",
    "\n",
    "if not os.path.exists(DIRECTORY):\n",
    "    os.makedirs(DIRECTORY)\n",
    "g.save(os.path.join(DIRECTORY, MODEL_FILE))"
   ]
  },
  {
   "cell_type": "code",
   "execution_count": 11,
   "metadata": {
    "collapsed": false
   },
   "outputs": [
    {
     "data": {
      "text/plain": [
       "<matplotlib.image.AxesImage at 0x7f0788123ac8>"
      ]
     },
     "execution_count": 11,
     "metadata": {},
     "output_type": "execute_result"
    },
    {
     "data": {
      "image/png": "[encoded data removed]",
      "text/plain": [
       "<matplotlib.figure.Figure at 0x7f0792590978>"
      ]
     },
     "metadata": {},
     "output_type": "display_data"
    }
   ],
   "source": [
    "image = images[0, :, :, :]\n",
    "image = np.reshape(image, [28, 28])\n",
    "plt.imshow(image, cmap='gray')"
   ]
  },
  {
   "cell_type": "code",
   "execution_count": 12,
   "metadata": {
    "collapsed": false
   },
   "outputs": [
    {
     "data": {
      "text/plain": [
       "(28, 28)"
      ]
     },
     "execution_count": 12,
     "metadata": {},
     "output_type": "execute_result"
    }
   ],
   "source": [
    "image.shape"
   ]
  }
 ],
 "metadata": {
  "kernelspec": {
   "display_name": "Python 3",
   "language": "python",
   "name": "python3"
  },
  "language_info": {
   "codemirror_mode": {
    "name": "ipython",
    "version": 3
   },
   "file_extension": ".py",
   "mimetype": "text/x-python",
   "name": "python",
   "nbconvert_exporter": "python",
   "pygments_lexer": "ipython3",
   "version": "3.6.2"
  }
 },
 "nbformat": 4,
 "nbformat_minor": 0
}
